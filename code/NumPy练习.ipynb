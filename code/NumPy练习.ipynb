{
 "cells": [
  {
   "cell_type": "code",
   "execution_count": 1,
   "metadata": {
    "collapsed": false
   },
   "outputs": [
    {
     "data": {
      "text/plain": [
       "'\\nNumpy是一个开源的Python科学计算库，专用于存储和处理大型矩阵，\\n相比Python自身的嵌套列表结构要高效很多，是数据分析、统计机器学习的必备工具。\\nNumpy还是深度学习工具Keras、sk-learn的基础组件之一。\\n'"
      ]
     },
     "execution_count": 1,
     "metadata": {},
     "output_type": "execute_result"
    }
   ],
   "source": [
    "'''\n",
    "Numpy是一个开源的Python科学计算库，专用于存储和处理大型矩阵，\n",
    "相比Python自身的嵌套列表结构要高效很多，是数据分析、统计机器学习的必备工具。\n",
    "Numpy还是深度学习工具Keras、sk-learn的基础组件之一。\n",
    "'''"
   ]
  },
  {
   "cell_type": "code",
   "execution_count": 2,
   "metadata": {
    "collapsed": false
   },
   "outputs": [
    {
     "name": "stdout",
     "output_type": "stream",
     "text": [
      "1.13.1\n"
     ]
    }
   ],
   "source": [
    "# 1.导入模块numpy并以np作为别名，查看其版本\n",
    "import numpy as np\n",
    "print(np.__version__)"
   ]
  },
  {
   "cell_type": "code",
   "execution_count": 3,
   "metadata": {
    "collapsed": false
   },
   "outputs": [
    {
     "name": "stdout",
     "output_type": "stream",
     "text": [
      "[0 1 2 3 4 5 6 7 8 9] [ 1  2  3  4  5  6  7  8  9 10] [1 3 5 7 9] [1 2 3] [1 2 3]\n"
     ]
    }
   ],
   "source": [
    "# 2.如何创建一个一维数组？\n",
    "a1=np.arange(10)\n",
    "a2=np.arange(1,11)\n",
    "a3=np.arange(1,11,2)\n",
    "a4=np.array([1,2,3])\n",
    "a5=np.array((1,2,3))\n",
    "print(a1,a2,a3,a4,a5)"
   ]
  },
  {
   "cell_type": "code",
   "execution_count": 16,
   "metadata": {
    "collapsed": false
   },
   "outputs": [
    {
     "name": "stdout",
     "output_type": "stream",
     "text": [
      "[[ True  True  True]\n",
      " [ True  True  True]\n",
      " [ True  True  True]]\n",
      "\n",
      "[[ True  True  True]\n",
      " [ True  True  True]\n",
      " [ True  True  True]]\n"
     ]
    }
   ],
   "source": [
    "# 3.如何创建布尔数组？\n",
    "print(np.full((3,3),True,dtype=bool))\n",
    "print()\n",
    "print(np.ones((3,3),dtype=bool))"
   ]
  },
  {
   "cell_type": "code",
   "execution_count": 27,
   "metadata": {
    "collapsed": false
   },
   "outputs": [
    {
     "name": "stdout",
     "output_type": "stream",
     "text": [
      "[1 3 5 7 9]\n",
      "[0 3 6 9]\n",
      "[ True False  True False  True False  True False  True False]\n",
      "[0 2 4 6 8]\n",
      "[0 1 2 3 4 5 6 7 8 9]\n"
     ]
    }
   ],
   "source": [
    "# 4.如何从1维数组中提取满足给定条件的元素？\n",
    "arr=np.arange(10)\n",
    "\n",
    "print(arr[arr%2 == 1])\n",
    "print(arr[arr%3==0])\n",
    "\n",
    "mask=arr%2==0\n",
    "print(mask)\n",
    "print(arr[mask])\n",
    "print(arr)"
   ]
  },
  {
   "cell_type": "code",
   "execution_count": 28,
   "metadata": {
    "collapsed": false
   },
   "outputs": [
    {
     "name": "stdout",
     "output_type": "stream",
     "text": [
      "[ 0 -1  2 -1  4 -1  6 -1  8 -1]\n"
     ]
    }
   ],
   "source": [
    "# 5.在numpy数组中，如何用另一个值替换满足条件的元素？\n",
    "\n",
    "# question: 用-1替换arr数组中所有的奇数。\n",
    "\n",
    "mask=arr%2==1\n",
    "arr[mask]=-1\n",
    "print(arr)\n",
    "\n"
   ]
  },
  {
   "cell_type": "code",
   "execution_count": 33,
   "metadata": {
    "collapsed": false
   },
   "outputs": [
    {
     "name": "stdout",
     "output_type": "stream",
     "text": [
      "[ 0 -1  2 -1  4 -1  6 -1  8 -1]\n",
      "[0 1 2 3 4 5 6 7 8 9]\n",
      "Help on built-in function where in module numpy.core.multiarray:\n",
      "\n",
      "where(...)\n",
      "    where(condition, [x, y])\n",
      "    \n",
      "    Return elements, either from `x` or `y`, depending on `condition`.\n",
      "    \n",
      "    If only `condition` is given, return ``condition.nonzero()``.\n",
      "    \n",
      "    Parameters\n",
      "    ----------\n",
      "    condition : array_like, bool\n",
      "        When True, yield `x`, otherwise yield `y`.\n",
      "    x, y : array_like, optional\n",
      "        Values from which to choose. `x`, `y` and `condition` need to be\n",
      "        broadcastable to some shape.\n",
      "    \n",
      "    Returns\n",
      "    -------\n",
      "    out : ndarray or tuple of ndarrays\n",
      "        If both `x` and `y` are specified, the output array contains\n",
      "        elements of `x` where `condition` is True, and elements from\n",
      "        `y` elsewhere.\n",
      "    \n",
      "        If only `condition` is given, return the tuple\n",
      "        ``condition.nonzero()``, the indices where `condition` is True.\n",
      "    \n",
      "    See Also\n",
      "    --------\n",
      "    nonzero, choose\n",
      "    \n",
      "    Notes\n",
      "    -----\n",
      "    If `x` and `y` are given and input arrays are 1-D, `where` is\n",
      "    equivalent to::\n",
      "    \n",
      "        [xv if c else yv for (c,xv,yv) in zip(condition,x,y)]\n",
      "    \n",
      "    Examples\n",
      "    --------\n",
      "    >>> np.where([[True, False], [True, True]],\n",
      "    ...          [[1, 2], [3, 4]],\n",
      "    ...          [[9, 8], [7, 6]])\n",
      "    array([[1, 8],\n",
      "           [3, 4]])\n",
      "    \n",
      "    >>> np.where([[0, 1], [1, 0]])\n",
      "    (array([0, 1]), array([1, 0]))\n",
      "    \n",
      "    >>> x = np.arange(9.).reshape(3, 3)\n",
      "    >>> np.where( x > 5 )\n",
      "    (array([2, 2, 2]), array([0, 1, 2]))\n",
      "    >>> x[np.where( x > 3.0 )]               # Note: result is 1D.\n",
      "    array([ 4.,  5.,  6.,  7.,  8.])\n",
      "    >>> np.where(x < 5, x, -1)               # Note: broadcasting.\n",
      "    array([[ 0.,  1.,  2.],\n",
      "           [ 3.,  4., -1.],\n",
      "           [-1., -1., -1.]])\n",
      "    \n",
      "    Find the indices of elements of `x` that are in `goodvalues`.\n",
      "    \n",
      "    >>> goodvalues = [3, 4, 7]\n",
      "    >>> ix = np.isin(x, goodvalues)\n",
      "    >>> ix\n",
      "    array([[False, False, False],\n",
      "           [ True,  True, False],\n",
      "           [False,  True, False]], dtype=bool)\n",
      "    >>> np.where(ix)\n",
      "    (array([1, 1, 2]), array([0, 1, 1]))\n",
      "\n",
      "None\n"
     ]
    }
   ],
   "source": [
    "# 6.如何替换满足条件的元素而不影响原始数组？\n",
    "\n",
    "# question arr数组中的所有奇数替换为-1而不更改arr数组\n",
    "arr=np.arange(10)\n",
    "\n",
    "arr1=np.where(arr%2==1,-1,arr)\n",
    "print(arr1)\n",
    "print(arr)\n",
    "\n",
    "print(help(np.where))"
   ]
  },
  {
   "cell_type": "code",
   "execution_count": 34,
   "metadata": {
    "collapsed": false
   },
   "outputs": [
    {
     "name": "stdout",
     "output_type": "stream",
     "text": [
      "[[0 1 2 3 4]\n",
      " [5 6 7 8 9]]\n"
     ]
    }
   ],
   "source": [
    "# 7.如何重塑数组？\n",
    "\n",
    "# question 将1维数组转换为2行的2维数组\n",
    "\n",
    "arr=np.arange(10)\n",
    "print(arr.reshape(2,-1))"
   ]
  },
  {
   "cell_type": "code",
   "execution_count": 38,
   "metadata": {
    "collapsed": false
   },
   "outputs": [],
   "source": [
    "# 8.如何垂直堆叠两个数组？\n",
    "\n",
    "a=np.arange(10).reshape(2,-1)\n",
    "b=np.repeat(1,10).reshape(2,-1)"
   ]
  },
  {
   "cell_type": "code",
   "execution_count": 40,
   "metadata": {
    "collapsed": false
   },
   "outputs": [
    {
     "data": {
      "text/plain": [
       "array([[1, 1, 1, 1, 1],\n",
       "       [1, 1, 1, 1, 1]])"
      ]
     },
     "execution_count": 40,
     "metadata": {},
     "output_type": "execute_result"
    }
   ],
   "source": [
    "b"
   ]
  },
  {
   "cell_type": "code",
   "execution_count": 43,
   "metadata": {
    "collapsed": false
   },
   "outputs": [
    {
     "data": {
      "text/plain": [
       "array([[0, 1, 2, 3, 4],\n",
       "       [5, 6, 7, 8, 9],\n",
       "       [1, 1, 1, 1, 1],\n",
       "       [1, 1, 1, 1, 1]])"
      ]
     },
     "execution_count": 43,
     "metadata": {},
     "output_type": "execute_result"
    }
   ],
   "source": [
    "# methon 1\n",
    "np.concatenate((a,b),axis=0)\n",
    "\n"
   ]
  },
  {
   "cell_type": "code",
   "execution_count": 44,
   "metadata": {
    "collapsed": false
   },
   "outputs": [
    {
     "data": {
      "text/plain": [
       "array([[0, 1, 2, 3, 4],\n",
       "       [5, 6, 7, 8, 9],\n",
       "       [1, 1, 1, 1, 1],\n",
       "       [1, 1, 1, 1, 1]])"
      ]
     },
     "execution_count": 44,
     "metadata": {},
     "output_type": "execute_result"
    }
   ],
   "source": [
    "# methon2\n",
    "np.vstack([a,b])\n"
   ]
  },
  {
   "cell_type": "code",
   "execution_count": 53,
   "metadata": {
    "collapsed": false
   },
   "outputs": [],
   "source": [
    "# 9.如何水平堆叠两个数组？\n",
    "\n",
    "a=np.arange(4).reshape(2,-1)\n",
    "b=np.repeat(1,4).reshape(2,-1)"
   ]
  },
  {
   "cell_type": "code",
   "execution_count": 55,
   "metadata": {
    "collapsed": false
   },
   "outputs": [
    {
     "data": {
      "text/plain": [
       "array([[1, 1],\n",
       "       [1, 1]])"
      ]
     },
     "execution_count": 55,
     "metadata": {},
     "output_type": "execute_result"
    }
   ],
   "source": [
    "b"
   ]
  },
  {
   "cell_type": "code",
   "execution_count": 58,
   "metadata": {
    "collapsed": false
   },
   "outputs": [
    {
     "data": {
      "text/plain": [
       "array([[0, 1, 1, 1],\n",
       "       [2, 3, 1, 1]])"
      ]
     },
     "execution_count": 58,
     "metadata": {},
     "output_type": "execute_result"
    }
   ],
   "source": [
    "# methon1\n",
    "np.hstack([a,b])"
   ]
  },
  {
   "cell_type": "code",
   "execution_count": 59,
   "metadata": {
    "collapsed": false
   },
   "outputs": [
    {
     "data": {
      "text/plain": [
       "array([[0, 1, 1, 1],\n",
       "       [2, 3, 1, 1]])"
      ]
     },
     "execution_count": 59,
     "metadata": {},
     "output_type": "execute_result"
    }
   ],
   "source": [
    "# method 2\n",
    "np.concatenate((a,b),axis=1)"
   ]
  },
  {
   "cell_type": "code",
   "execution_count": 61,
   "metadata": {
    "collapsed": false
   },
   "outputs": [],
   "source": [
    "# 10.没有硬编码的情况下，在numpy中如何生成自定义序列？\n",
    "\n",
    "# qeustion 创建以下模式而不使用硬编码。只能使用numpy函数和输入数组a。\n",
    "\n",
    "a=np.array([1,2,3])"
   ]
  },
  {
   "cell_type": "code",
   "execution_count": 64,
   "metadata": {
    "collapsed": false
   },
   "outputs": [
    {
     "data": {
      "text/plain": [
       "array([1, 1, 1, 2, 2, 2, 3, 3, 3, 1, 2, 3, 1, 2, 3, 1, 2, 3])"
      ]
     },
     "execution_count": 64,
     "metadata": {},
     "output_type": "execute_result"
    }
   ],
   "source": [
    "np.r_[np.repeat(a,3),np.tile(a,3)]"
   ]
  },
  {
   "cell_type": "code",
   "execution_count": 65,
   "metadata": {
    "collapsed": false
   },
   "outputs": [
    {
     "data": {
      "text/plain": [
       "array([1, 2, 3, 1, 2, 3, 1, 2, 3])"
      ]
     },
     "execution_count": 65,
     "metadata": {},
     "output_type": "execute_result"
    }
   ],
   "source": [
    "np.tile(a,3)"
   ]
  },
  {
   "cell_type": "code",
   "execution_count": 66,
   "metadata": {
    "collapsed": false
   },
   "outputs": [
    {
     "data": {
      "text/plain": [
       "array([1, 1, 2, 2, 3, 3])"
      ]
     },
     "execution_count": 66,
     "metadata": {},
     "output_type": "execute_result"
    }
   ],
   "source": [
    "np.repeat(a,2)"
   ]
  },
  {
   "cell_type": "code",
   "execution_count": 72,
   "metadata": {
    "collapsed": false
   },
   "outputs": [],
   "source": [
    "a=np.repeat(1,10).reshape(2,-1)"
   ]
  },
  {
   "cell_type": "code",
   "execution_count": 73,
   "metadata": {
    "collapsed": false
   },
   "outputs": [
    {
     "data": {
      "text/plain": [
       "array([[1, 1, 1, 1, 1],\n",
       "       [1, 1, 1, 1, 1]])"
      ]
     },
     "execution_count": 73,
     "metadata": {},
     "output_type": "execute_result"
    }
   ],
   "source": [
    "a"
   ]
  },
  {
   "cell_type": "code",
   "execution_count": 77,
   "metadata": {
    "collapsed": false
   },
   "outputs": [
    {
     "data": {
      "text/plain": [
       "array([1, 2, 3, 4])"
      ]
     },
     "execution_count": 77,
     "metadata": {},
     "output_type": "execute_result"
    }
   ],
   "source": [
    "# 11.如何获得两个python numpy数组之间的共同元素？\n",
    "\n",
    "a=np.array([1,2,3,2,3,2,3,2,3,4])\n",
    "b=np.array([6,7,5,3,2,3,4,6,7,6,2,3,1])\n",
    "np.intersect1d(a,b)"
   ]
  },
  {
   "cell_type": "code",
   "execution_count": 79,
   "metadata": {
    "collapsed": false
   },
   "outputs": [
    {
     "data": {
      "text/plain": [
       "array([5, 6, 7])"
      ]
     },
     "execution_count": 79,
     "metadata": {},
     "output_type": "execute_result"
    }
   ],
   "source": [
    "# 12.从一个数组中删除存在于另一个数组中的元素？\n",
    "a=np.array([1,2,3,2,3,2,3,2,3,4])\n",
    "b=np.array([6,7,5,3,2,3,4,6,7,6,2,3,1])\n",
    "\n",
    "# 删除b里的所有a中的元素\n",
    "np.setdiff1d(b,a)"
   ]
  },
  {
   "cell_type": "code",
   "execution_count": 82,
   "metadata": {
    "collapsed": false
   },
   "outputs": [
    {
     "data": {
      "text/plain": [
       "(array([1, 3, 5, 7], dtype=int64),)"
      ]
     },
     "execution_count": 82,
     "metadata": {},
     "output_type": "execute_result"
    }
   ],
   "source": [
    "# 13.获取两个数组元素匹配的索引号\n",
    "a=np.array([0,2,1,2,0,2,9,2])\n",
    "b=np.array([1,2,4,2,6,2,90,2])\n",
    "np.where(a==b)# 返回的是索引数组"
   ]
  },
  {
   "cell_type": "code",
   "execution_count": 84,
   "metadata": {
    "collapsed": false
   },
   "outputs": [
    {
     "data": {
      "text/plain": [
       "array([ 5,  6,  7,  8,  9, 10])"
      ]
     },
     "execution_count": 84,
     "metadata": {},
     "output_type": "execute_result"
    }
   ],
   "source": [
    "# 14.从numpy数组中提取给定范围内的所有数字？\n",
    "a=np.arange(15)\n",
    "index=np.where((a>=5)&(a<=10))\n",
    "a[index]"
   ]
  },
  {
   "cell_type": "code",
   "execution_count": 85,
   "metadata": {
    "collapsed": false
   },
   "outputs": [
    {
     "data": {
      "text/plain": [
       "array([ 5,  6,  7,  8,  9, 10])"
      ]
     },
     "execution_count": 85,
     "metadata": {},
     "output_type": "execute_result"
    }
   ],
   "source": [
    "index=np.where(np.logical_and(a>=5,a<=10))\n",
    "a[index]"
   ]
  },
  {
   "cell_type": "code",
   "execution_count": 86,
   "metadata": {
    "collapsed": false
   },
   "outputs": [
    {
     "data": {
      "text/plain": [
       "array([ 5.,  7.,  9.,  8.,  9.,  4.,  5.])"
      ]
     },
     "execution_count": 86,
     "metadata": {},
     "output_type": "execute_result"
    }
   ],
   "source": [
    "# 15.如何将处理标量的python函数在numpy数组上运行？\n",
    "\n",
    "def maxx(x,y):\n",
    "    if x>y:\n",
    "        return x\n",
    "    else:\n",
    "        return y\n",
    "\n",
    "pair_max=np.vectorize(maxx,otypes=[float])\n",
    "a=np.array([5,7,9,8,6,4,5])\n",
    "b=np.array([3,6,1,8,9,2,3])\n",
    "pair_max(a,b)\n"
   ]
  },
  {
   "cell_type": "code",
   "execution_count": 87,
   "metadata": {
    "collapsed": true
   },
   "outputs": [],
   "source": [
    "np.vectorize?"
   ]
  },
  {
   "cell_type": "code",
   "execution_count": 104,
   "metadata": {
    "collapsed": false
   },
   "outputs": [
    {
     "data": {
      "text/plain": [
       "array([[1, 0, 2],\n",
       "       [4, 3, 5],\n",
       "       [7, 6, 8]])"
      ]
     },
     "execution_count": 104,
     "metadata": {},
     "output_type": "execute_result"
    }
   ],
   "source": [
    "# 16.如何交换2维numpy数组中的两个列？\n",
    "arr=np.arange(9).reshape(3,-1)\n",
    "\n",
    "# 交换第一列和第二列\n",
    "arr[:,[1,0,2]]\n"
   ]
  },
  {
   "cell_type": "code",
   "execution_count": 105,
   "metadata": {
    "collapsed": false
   },
   "outputs": [
    {
     "data": {
      "text/plain": [
       "array([[3, 4, 5],\n",
       "       [0, 1, 2],\n",
       "       [6, 7, 8]])"
      ]
     },
     "execution_count": 105,
     "metadata": {},
     "output_type": "execute_result"
    }
   ],
   "source": [
    "# 17.如何交换2维numpy数组中的两个行？\n",
    "arr=np.arange(9).reshape(3,-1)\n",
    "\n",
    "# 交换第一行和第二行\n",
    "arr[[1,0,2],:]\n",
    "\n"
   ]
  },
  {
   "cell_type": "code",
   "execution_count": 109,
   "metadata": {
    "collapsed": false
   },
   "outputs": [
    {
     "data": {
      "text/plain": [
       "array([[6, 7, 8],\n",
       "       [3, 4, 5],\n",
       "       [0, 1, 2]])"
      ]
     },
     "execution_count": 109,
     "metadata": {},
     "output_type": "execute_result"
    }
   ],
   "source": [
    "# 18.如何反转2维数组的行？\n",
    "arr=np.arange(9).reshape(3,-1)\n",
    "arr[::-1]"
   ]
  },
  {
   "cell_type": "code",
   "execution_count": 112,
   "metadata": {
    "collapsed": false
   },
   "outputs": [
    {
     "name": "stdout",
     "output_type": "stream",
     "text": [
      "[[0 1 2]\n",
      " [3 4 5]\n",
      " [6 7 8]]\n"
     ]
    },
    {
     "data": {
      "text/plain": [
       "array([[2, 1, 0],\n",
       "       [5, 4, 3],\n",
       "       [8, 7, 6]])"
      ]
     },
     "execution_count": 112,
     "metadata": {},
     "output_type": "execute_result"
    }
   ],
   "source": [
    "#  19.如何反转二维数组的列？\n",
    "arr=np.arange(9).reshape(3,-1)\n",
    "print(arr)\n",
    "arr[:,::-1]"
   ]
  },
  {
   "cell_type": "code",
   "execution_count": 113,
   "metadata": {
    "collapsed": false
   },
   "outputs": [
    {
     "data": {
      "text/plain": [
       "array([[ 9.84680328,  5.79046855,  5.38456464],\n",
       "       [ 6.05019187,  8.46358146,  5.65354531],\n",
       "       [ 7.56208628,  5.46387505,  7.66169706],\n",
       "       [ 6.02662761,  8.81512251,  8.44839864],\n",
       "       [ 6.14119706,  6.36732205,  6.76818318]])"
      ]
     },
     "execution_count": 113,
     "metadata": {},
     "output_type": "execute_result"
    }
   ],
   "source": [
    "# 20.如何创建一个包含5到10之间随机浮点数的二维数组？\n",
    "\n",
    "np.random.uniform(5,10,size=(5,3))"
   ]
  },
  {
   "cell_type": "code",
   "execution_count": 117,
   "metadata": {
    "collapsed": false
   },
   "outputs": [
    {
     "name": "stdout",
     "output_type": "stream",
     "text": [
      "[[ 0.1024736   0.761917    0.25442682]\n",
      " [ 0.9738198   0.11325862  0.19335245]\n",
      " [ 0.73576389  0.33372536  0.49497299]]\n"
     ]
    },
    {
     "data": {
      "text/plain": [
       "array([[ 8.44764525,  9.47448329,  6.27983639],\n",
       "       [ 8.04449463,  6.5224233 ,  5.7618832 ],\n",
       "       [ 9.07781308,  5.36150099,  7.19764618],\n",
       "       [ 8.9309798 ,  7.79267352,  6.19617359],\n",
       "       [ 6.33411296,  5.86499755,  7.9627517 ]])"
      ]
     },
     "execution_count": 117,
     "metadata": {},
     "output_type": "execute_result"
    }
   ],
   "source": [
    "print(np.random.random((3,3)))\n",
    "np.random.randint(low=5,high=10,size=(5,3))+np.random.random((5,3))"
   ]
  },
  {
   "cell_type": "code",
   "execution_count": 122,
   "metadata": {
    "collapsed": false
   },
   "outputs": [
    {
     "data": {
      "text/plain": [
       "array([[ 0.695,  0.546,  0.543],\n",
       "       [ 0.25 ,  0.228,  0.507],\n",
       "       [ 0.208,  0.972,  0.322]])"
      ]
     },
     "execution_count": 122,
     "metadata": {},
     "output_type": "execute_result"
    }
   ],
   "source": [
    "# 21.打印python numpy数组并保留3位小数？\n",
    "\n",
    "arr=np.random.random(size=(3,3))\n",
    "\n",
    "np.set_printoptions(precision=3)\n",
    "arr"
   ]
  },
  {
   "cell_type": "code",
   "execution_count": 123,
   "metadata": {
    "collapsed": false
   },
   "outputs": [],
   "source": [
    "# 22.如何使用科学记数法（如1e10）漂亮地打印一个numpy数组？\n",
    "np.random.seed(100)\n",
    "arr=np.random.random([3,3])/1e3"
   ]
  },
  {
   "cell_type": "code",
   "execution_count": 124,
   "metadata": {
    "collapsed": false
   },
   "outputs": [
    {
     "data": {
      "text/plain": [
       "array([[  5.434e-04,   2.784e-04,   4.245e-04],\n",
       "       [  8.448e-04,   4.719e-06,   1.216e-04],\n",
       "       [  6.707e-04,   8.259e-04,   1.367e-04]])"
      ]
     },
     "execution_count": 124,
     "metadata": {},
     "output_type": "execute_result"
    }
   ],
   "source": [
    "arr"
   ]
  },
  {
   "cell_type": "code",
   "execution_count": 129,
   "metadata": {
    "collapsed": true
   },
   "outputs": [],
   "source": [
    "np.set_printoptions(suppress=True,precision=6)# precision is optional"
   ]
  },
  {
   "cell_type": "code",
   "execution_count": 130,
   "metadata": {
    "collapsed": false
   },
   "outputs": [
    {
     "data": {
      "text/plain": [
       "array([[ 0.000543,  0.000278,  0.000425],\n",
       "       [ 0.000845,  0.000005,  0.000122],\n",
       "       [ 0.000671,  0.000826,  0.000137]])"
      ]
     },
     "execution_count": 130,
     "metadata": {},
     "output_type": "execute_result"
    }
   ],
   "source": [
    "arr"
   ]
  },
  {
   "cell_type": "code",
   "execution_count": 131,
   "metadata": {
    "collapsed": false
   },
   "outputs": [
    {
     "data": {
      "text/plain": [
       "array([ 0,  1,  2, ..., 17, 18, 19])"
      ]
     },
     "execution_count": 131,
     "metadata": {},
     "output_type": "execute_result"
    }
   ],
   "source": [
    "# 23.如何限制numpy数组输出中打印元素的数量？\n",
    "\n",
    "arr=np.arange(20)\n",
    "np.set_printoptions(threshold=6)\n",
    "arr"
   ]
  },
  {
   "cell_type": "code",
   "execution_count": 132,
   "metadata": {
    "collapsed": false
   },
   "outputs": [
    {
     "data": {
      "text/plain": [
       "array([ 0,  1,  2,  3,  4,  5,  6,  7,  8,  9, 10, 11, 12, 13, 14, 15, 16,\n",
       "       17, 18, 19])"
      ]
     },
     "execution_count": 132,
     "metadata": {},
     "output_type": "execute_result"
    }
   ],
   "source": [
    "# 24.如何在不截断的情况下打印完整的numpy数组？\n",
    "\n",
    "np.set_printoptions(threshold=np.nan)\n",
    "arr"
   ]
  },
  {
   "cell_type": "code",
   "execution_count": 138,
   "metadata": {
    "collapsed": false
   },
   "outputs": [
    {
     "data": {
      "text/plain": [
       "array([b'5.1,3.5,1.4,0.2,Iris-setosa', b'4.9,3.0,1.4,0.2,Iris-setosa',\n",
       "       b'4.7,3.2,1.3,0.2,Iris-setosa', b'4.6,3.1,1.5,0.2,Iris-setosa',\n",
       "       b'5.0,3.6,1.4,0.2,Iris-setosa', b'5.4,3.9,1.7,0.4,Iris-setosa',\n",
       "       b'4.6,3.4,1.4,0.3,Iris-setosa', b'5.0,3.4,1.5,0.2,Iris-setosa',\n",
       "       b'4.4,2.9,1.4,0.2,Iris-setosa', b'4.9,3.1,1.5,0.1,Iris-setosa'], dtype=object)"
      ]
     },
     "execution_count": 138,
     "metadata": {},
     "output_type": "execute_result"
    }
   ],
   "source": [
    "# 25.如何在python numpy中导入含有数字和文本的数据集，并保持的文本完整性？\n",
    "url=\"iris.data\"\n",
    "\n",
    "\n",
    "iris=np.genfromtxt(url,delimiter=\" \",dtype=object)\n",
    "'''\n",
    "由于我们想保留物种，一个文本字段，我已经把dtype设置为object。\n",
    "设置dtype = None，则会返回一维元组数组。\n",
    "'''\n",
    "iris[:10]"
   ]
  },
  {
   "cell_type": "code",
   "execution_count": 145,
   "metadata": {
    "collapsed": false
   },
   "outputs": [
    {
     "name": "stdout",
     "output_type": "stream",
     "text": [
      "(150,)\n",
      "[b'Iris-setosa' b'Iris-setosa' b'Iris-setosa' b'Iris-setosa' b'Iris-setosa']\n"
     ]
    }
   ],
   "source": [
    "# 26.如何从一维元组数组中提取特定的列？\n",
    "# question 提取specise列\n",
    "iris=np.genfromtxt(url,delimiter=\",\",dtype=None)\n",
    "print(iris.shape)\n",
    "species=np.array([row[4] for row in iris])\n",
    "print(species[:5])"
   ]
  },
  {
   "cell_type": "code",
   "execution_count": 150,
   "metadata": {
    "collapsed": false
   },
   "outputs": [
    {
     "name": "stdout",
     "output_type": "stream",
     "text": [
      "[( 5.1,  3.5,  1.4,  0.2, b'Iris-setosa')\n",
      " ( 4.9,  3. ,  1.4,  0.2, b'Iris-setosa')\n",
      " ( 4.7,  3.2,  1.3,  0.2, b'Iris-setosa')\n",
      " ( 4.6,  3.1,  1.5,  0.2, b'Iris-setosa')\n",
      " ( 5. ,  3.6,  1.4,  0.2, b'Iris-setosa')\n",
      " ( 5.4,  3.9,  1.7,  0.4, b'Iris-setosa')\n",
      " ( 4.6,  3.4,  1.4,  0.3, b'Iris-setosa')\n",
      " ( 5. ,  3.4,  1.5,  0.2, b'Iris-setosa')\n",
      " ( 4.4,  2.9,  1.4,  0.2, b'Iris-setosa')\n",
      " ( 4.9,  3.1,  1.5,  0.1, b'Iris-setosa')]\n",
      "[[ 5.1  3.5  1.4  0.2]\n",
      " [ 4.9  3.   1.4  0.2]\n",
      " [ 4.7  3.2  1.3  0.2]\n",
      " [ 4.6  3.1  1.5  0.2]\n",
      " [ 5.   3.6  1.4  0.2]\n",
      " [ 5.4  3.9  1.7  0.4]\n",
      " [ 4.6  3.4  1.4  0.3]\n",
      " [ 5.   3.4  1.5  0.2]\n",
      " [ 4.4  2.9  1.4  0.2]\n",
      " [ 4.9  3.1  1.5  0.1]]\n",
      "[[ 5.1  3.5  1.4  0.2]\n",
      " [ 4.9  3.   1.4  0.2]\n",
      " [ 4.7  3.2  1.3  0.2]\n",
      " [ 4.6  3.1  1.5  0.2]\n",
      " [ 5.   3.6  1.4  0.2]]\n"
     ]
    }
   ],
   "source": [
    "# 27.如何将一维元组数组转换为二维numpy数组？\n",
    "\n",
    "# 通过省略species文本字段将一维iris数组转换为二维数组iris_2d\n",
    "iris_1d=np.genfromtxt(url,delimiter=\",\",dtype=None)\n",
    "print(iris_1d[:10])\n",
    "\n",
    "# method 1 \n",
    "iris_2d=np.array([row.tolist()[:4] for row in iris_1d])\n",
    "print(iris_2d[:10])\n",
    "\n",
    "# method 2\n",
    "iris_2d=np.genfromtxt(url,delimiter=',',dtype=float,usecols=[0,1,2,3])\n",
    "print(iris_2d[:5])"
   ]
  },
  {
   "cell_type": "code",
   "execution_count": 151,
   "metadata": {
    "collapsed": true
   },
   "outputs": [],
   "source": [
    "# 28.如何计算numpy数组的平均值，中位数，标准差？\n",
    "# 找出 iris的 sepallength平均值，中位数，标准差（第1列）\n",
    "\n",
    "sepallength=np.genfromtxt(url,delimiter=',',dtype=float,usecols=[1])\n",
    "mu,med,sd=np.mean(sepallength),np.median(sepallength),np.std(sepallength)"
   ]
  },
  {
   "cell_type": "code",
   "execution_count": 152,
   "metadata": {
    "collapsed": false
   },
   "outputs": [
    {
     "data": {
      "text/plain": [
       "(3.0540000000000003, 3.0, 0.43214658007054352)"
      ]
     },
     "execution_count": 152,
     "metadata": {},
     "output_type": "execute_result"
    }
   ],
   "source": [
    "mu,med,sd"
   ]
  },
  {
   "cell_type": "code",
   "execution_count": 155,
   "metadata": {
    "collapsed": false
   },
   "outputs": [
    {
     "name": "stdout",
     "output_type": "stream",
     "text": [
      "[ 0.625     0.416667  0.5       0.458333  0.666667  0.791667  0.583333\n",
      "  0.583333  0.375     0.458333  0.708333  0.583333  0.416667  0.416667\n",
      "  0.833333  1.        0.791667  0.625     0.75      0.75      0.583333\n",
      "  0.708333  0.666667  0.541667  0.583333  0.416667  0.583333  0.625\n",
      "  0.583333  0.5       0.458333  0.583333  0.875     0.916667  0.458333  0.5\n",
      "  0.625     0.458333  0.416667  0.583333  0.625     0.125     0.5       0.625\n",
      "  0.75      0.416667  0.75      0.5       0.708333  0.541667  0.5       0.5\n",
      "  0.458333  0.125     0.333333  0.333333  0.541667  0.166667  0.375\n",
      "  0.291667  0.        0.416667  0.083333  0.375     0.375     0.458333\n",
      "  0.416667  0.291667  0.083333  0.208333  0.5       0.333333  0.208333\n",
      "  0.333333  0.375     0.416667  0.333333  0.416667  0.375     0.25\n",
      "  0.166667  0.166667  0.291667  0.291667  0.416667  0.583333  0.458333\n",
      "  0.125     0.416667  0.208333  0.25      0.416667  0.25      0.125\n",
      "  0.291667  0.416667  0.375     0.375     0.208333  0.333333  0.541667\n",
      "  0.291667  0.416667  0.375     0.416667  0.416667  0.208333  0.375\n",
      "  0.208333  0.666667  0.5       0.291667  0.416667  0.208333  0.333333  0.5\n",
      "  0.416667  0.75      0.25      0.083333  0.5       0.333333  0.333333\n",
      "  0.291667  0.541667  0.5       0.333333  0.416667  0.333333  0.416667\n",
      "  0.333333  0.75      0.333333  0.333333  0.25      0.416667  0.583333\n",
      "  0.458333  0.416667  0.458333  0.458333  0.458333  0.291667  0.5       0.541667\n",
      "  0.416667  0.208333  0.416667  0.583333  0.416667]\n"
     ]
    }
   ],
   "source": [
    "# 29.如何标准化一个数组至0到1之间？\n",
    "# 问题：创建一个规范化形式的iris的sepallength，其值的范围在0和1之间，最小值为0，最大值为1。\n",
    "sepallength=np.genfromtxt(url,delimiter=',',dtype=float,usecols=[1])\n",
    "Smax,Smin=sepallength.max(),sepallength.min()\n",
    "print((sepallength-Smin)/(Smax-Smin))"
   ]
  },
  {
   "cell_type": "code",
   "execution_count": 157,
   "metadata": {
    "collapsed": false
   },
   "outputs": [
    {
     "name": "stdout",
     "output_type": "stream",
     "text": [
      "[ 0.009441  0.005726  0.006994  0.006328  0.010433  0.014084  0.008542\n",
      "  0.008542  0.005181  0.006328  0.011531  0.008542  0.005726  0.005726\n",
      "  0.015565  0.02322   0.014084  0.009441  0.012743  0.012743  0.008542\n",
      "  0.011531  0.010433  0.007729  0.008542  0.005726  0.008542  0.009441\n",
      "  0.008542  0.006994  0.006328  0.008542  0.017202  0.019011  0.006328\n",
      "  0.006994  0.009441  0.006328  0.005726  0.008542  0.009441  0.002843\n",
      "  0.006994  0.009441  0.012743  0.005726  0.012743  0.006994  0.011531\n",
      "  0.007729  0.006994  0.006994  0.006328  0.002843  0.004688  0.004688\n",
      "  0.007729  0.003142  0.005181  0.004242  0.002106  0.005726  0.002573\n",
      "  0.005181  0.005181  0.006328  0.005726  0.004242  0.002573  0.003473\n",
      "  0.006994  0.004688  0.003473  0.004688  0.005181  0.005726  0.004688\n",
      "  0.005726  0.005181  0.003838  0.003142  0.003142  0.004242  0.004242\n",
      "  0.005726  0.008542  0.006328  0.002843  0.005726  0.003473  0.003838\n",
      "  0.005726  0.003838  0.002843  0.004242  0.005726  0.005181  0.005181\n",
      "  0.003473  0.004688  0.007729  0.004242  0.005726  0.005181  0.005726\n",
      "  0.005726  0.003473  0.005181  0.003473  0.010433  0.006994  0.004242\n",
      "  0.005726  0.003473  0.004688  0.006994  0.005726  0.012743  0.003838\n",
      "  0.002573  0.006994  0.004688  0.004688  0.004242  0.007729  0.006994\n",
      "  0.004688  0.005726  0.004688  0.005726  0.004688  0.012743  0.004688\n",
      "  0.004688  0.003838  0.005726  0.008542  0.006328  0.005726  0.006328\n",
      "  0.006328  0.006328  0.004242  0.006994  0.007729  0.005726  0.003473\n",
      "  0.005726  0.008542  0.005726]\n"
     ]
    }
   ],
   "source": [
    "# 30.如何计算softmax值？\n",
    "def softmax(x):\n",
    "    e_x=np.exp(x-np.max(x))\n",
    "    return e_x/e_x.sum(axis=0)\n",
    "print(softmax(sepallength))"
   ]
  },
  {
   "cell_type": "code",
   "execution_count": 159,
   "metadata": {
    "collapsed": false
   },
   "outputs": [
    {
     "data": {
      "text/plain": [
       "array([ 2.345,  3.8  ])"
      ]
     },
     "execution_count": 159,
     "metadata": {},
     "output_type": "execute_result"
    }
   ],
   "source": [
    "# 31.如何找到一个numpy数组的百分位的值？\n",
    "# 问题：找到iris的sepallength第5位和第95百分位的值。\n",
    "\n",
    "\n",
    "np.percentile(sepallength,q=[5,95])"
   ]
  },
  {
   "cell_type": "code",
   "execution_count": null,
   "metadata": {
    "collapsed": true
   },
   "outputs": [],
   "source": [
    "# 32.如何在数组中的随机位置插入一个值？\n"
   ]
  },
  {
   "cell_type": "code",
   "execution_count": 160,
   "metadata": {
    "collapsed": false
   },
   "outputs": [
    {
     "data": {
      "text/plain": [
       "array([[ 4.8,  3.4,  1.6,  0.2],\n",
       "       [ 4.8,  3.4,  1.9,  0.2],\n",
       "       [ 4.7,  3.2,  1.6,  0.2],\n",
       "       [ 4.8,  3.1,  1.6,  0.2],\n",
       "       [ 4.9,  2.4,  3.3,  1. ],\n",
       "       [ 4.9,  2.5,  4.5,  1.7]])"
      ]
     },
     "execution_count": 160,
     "metadata": {},
     "output_type": "execute_result"
    }
   ],
   "source": [
    "# 34.如何根据两个或多个条件过滤一个numpy数组？\n",
    "#问题：过滤具有petallength（第3列）> 1.5和sepallength（第1列）<5.0的iris_2d的行。\n",
    "url='iris.data'\n",
    "iris_2d=np.genfromtxt(url,delimiter=',',dtype=float,usecols=[0,1,2,3])\n",
    "condition=(iris_2d[:,2]>1.5)&(iris_2d[:,0]<5.0)\n",
    "iris_2d[condition]\n",
    "\n"
   ]
  },
  {
   "cell_type": "code",
   "execution_count": null,
   "metadata": {
    "collapsed": true
   },
   "outputs": [],
   "source": []
  },
  {
   "cell_type": "code",
   "execution_count": null,
   "metadata": {
    "collapsed": true
   },
   "outputs": [],
   "source": []
  },
  {
   "cell_type": "code",
   "execution_count": null,
   "metadata": {
    "collapsed": true
   },
   "outputs": [],
   "source": []
  }
 ],
 "metadata": {
  "kernelspec": {
   "display_name": "Python 3",
   "language": "python",
   "name": "python3"
  },
  "language_info": {
   "codemirror_mode": {
    "name": "ipython",
    "version": 3
   },
   "file_extension": ".py",
   "mimetype": "text/x-python",
   "name": "python",
   "nbconvert_exporter": "python",
   "pygments_lexer": "ipython3",
   "version": "3.6.0"
  }
 },
 "nbformat": 4,
 "nbformat_minor": 2
}
